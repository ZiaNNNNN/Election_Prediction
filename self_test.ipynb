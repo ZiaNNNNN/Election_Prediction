{
 "cells": [
  {
   "cell_type": "code",
   "execution_count": 3,
   "metadata": {},
   "outputs": [],
   "source": [
    "import csv\n",
    "import os\n",
    "import time"
   ]
  },
  {
   "cell_type": "code",
   "execution_count": 2,
   "metadata": {},
   "outputs": [],
   "source": [
    "def row_to_edge(row):\n",
    "    \"\"\"\n",
    "    Given an election result row or poll data row, returns the Democratic edge\n",
    "    in that state.\n",
    "    \"\"\"\n",
    "    return float(row[\"Dem\"]) - float(row[\"Rep\"])  "
   ]
  },
  {
   "cell_type": "code",
   "execution_count": 3,
   "metadata": {},
   "outputs": [],
   "source": [
    "def state_edges(election_result_rows):\n",
    "    \"\"\"\n",
    "    Given a list of election result rows, returns state edges.\n",
    "    The input list does has no duplicate states;\n",
    "    that is, each state is represented at most once in the input list.\n",
    "    \"\"\"\n",
    "    dic={}\n",
    "    for i in election_result_rows:\n",
    "        dic.update({ i[\"State\"]: row_to_edge(i)})\n",
    "    return dic"
   ]
  },
  {
   "cell_type": "code",
   "execution_count": 4,
   "metadata": {},
   "outputs": [],
   "source": [
    "rows1 = [{'State': 'WA', 'Dem': '1.0', 'Rep': '0.1'}]"
   ]
  },
  {
   "cell_type": "code",
   "execution_count": 5,
   "metadata": {},
   "outputs": [
    {
     "data": {
      "text/plain": [
       "{'WA': 0.9}"
      ]
     },
     "execution_count": 5,
     "metadata": {},
     "output_type": "execute_result"
    }
   ],
   "source": [
    "state_edges(rows1)"
   ]
  },
  {
   "cell_type": "code",
   "execution_count": 6,
   "metadata": {},
   "outputs": [],
   "source": [
    "rows2 = [{'State': 'WA', 'Dem': '1.0', 'Rep': '0.1'},\n",
    "               {'State': 'CA', 'Dem': '0.2', 'Rep': '1.3'}]"
   ]
  },
  {
   "cell_type": "code",
   "execution_count": 7,
   "metadata": {},
   "outputs": [
    {
     "data": {
      "text/plain": [
       "{'WA': 0.9, 'CA': -1.1}"
      ]
     },
     "execution_count": 7,
     "metadata": {},
     "output_type": "execute_result"
    }
   ],
   "source": [
    "state_edges(rows2)"
   ]
  },
  {
   "cell_type": "code",
   "execution_count": 8,
   "metadata": {},
   "outputs": [
    {
     "data": {
      "text/plain": [
       "{'State': 'WA', 'Dem': '1.0', 'Rep': '0.1'}"
      ]
     },
     "execution_count": 8,
     "metadata": {},
     "output_type": "execute_result"
    }
   ],
   "source": [
    "next(item for item in rows2 if item[\"State\"] == \"WA\")"
   ]
  },
  {
   "cell_type": "code",
   "execution_count": 9,
   "metadata": {},
   "outputs": [],
   "source": [
    "def earlier_date(date1, date2):\n",
    "    \"\"\"\n",
    "    Given two dates as strings (formatted like \"Oct 06 2012\"), returns True if \n",
    "    date1 is after date2.\n",
    "    \"\"\"\n",
    "    return (time.strptime(date1, \"%b %d %Y\") < time.strptime(date2, \"%b %d %Y\"))\n",
    "\n",
    "def most_recent_poll_row(poll_rows, pollster, state):\n",
    "    \"\"\"\n",
    "    Given a list of poll data rows, returns the most recent row with the\n",
    "    specified pollster and state. If no such row exists, returns None.\n",
    "    \"\"\"\n",
    "    recent_date = \"Oct 01 1500\"\n",
    "    data = None\n",
    "    for i in poll_rows:\n",
    "        if i[\"State\"] == state and i[\"Pollster\"] == pollster:\n",
    "            if earlier_date(recent_date, i[\"Date\"]):\n",
    "                recent_date = i[\"Date\"]\n",
    "                data = i\n",
    "    return data"
   ]
  },
  {
   "cell_type": "code",
   "execution_count": 10,
   "metadata": {},
   "outputs": [],
   "source": [
    "poll_rows1 = [{\"ID\":1, \"State\":\"WA\", \"Pollster\":\"A\", \"Date\":\"Jan 07 2010\"},\n",
    "              {\"ID\":2, \"State\":\"WA\", \"Pollster\":\"B\", \"Date\":\"Mar 21 2010\"},\n",
    "              {\"ID\":3, \"State\":\"WA\", \"Pollster\":\"A\", \"Date\":\"Jan 08 2010\"},\n",
    "              {\"ID\":4, \"State\":\"OR\", \"Pollster\":\"A\", \"Date\":\"Feb 10 2010\"},\n",
    "              {\"ID\":5, \"State\":\"WA\", \"Pollster\":\"B\", \"Date\":\"Feb 10 2010\"},\n",
    "              {\"ID\":6, \"State\":\"WA\", \"Pollster\":\"B\", \"Date\":\"Mar 22 2010\"}]"
   ]
  },
  {
   "cell_type": "code",
   "execution_count": 11,
   "metadata": {},
   "outputs": [
    {
     "data": {
      "text/plain": [
       "{'ID': 3, 'State': 'WA', 'Pollster': 'A', 'Date': 'Jan 08 2010'}"
      ]
     },
     "execution_count": 11,
     "metadata": {},
     "output_type": "execute_result"
    }
   ],
   "source": [
    "most_recent_poll_row(poll_rows1, \"A\", \"WA\")"
   ]
  },
  {
   "cell_type": "code",
   "execution_count": 12,
   "metadata": {},
   "outputs": [],
   "source": [
    "def unique_column_values(rows, column_name):\n",
    "    \"\"\"\n",
    "    Given a list of rows and the name of a column (a string), returns a set\n",
    "    containing all values in that column.\n",
    "    \"\"\"\n",
    "    my_set = set()\n",
    "    for i in rows:\n",
    "        if i[column_name] not in my_set:\n",
    "            my_set.add(i[column_name])\n",
    "    return my_set\n",
    "    "
   ]
  },
  {
   "cell_type": "code",
   "execution_count": 13,
   "metadata": {},
   "outputs": [
    {
     "data": {
      "text/plain": [
       "{'OR', 'WA'}"
      ]
     },
     "execution_count": 13,
     "metadata": {},
     "output_type": "execute_result"
    }
   ],
   "source": [
    "unique_column_values(poll_rows1, \"State\")"
   ]
  },
  {
   "cell_type": "code",
   "execution_count": 14,
   "metadata": {},
   "outputs": [],
   "source": [
    "def pollster_predictions(poll_rows):\n",
    "    \"\"\"\n",
    "    Given a list of poll data rows, returns pollster predictions.\n",
    "    \"\"\"\n",
    "\n",
    "    dic = {}\n",
    "    Pollster_set = unique_column_values(poll_rows, \"Pollster\")\n",
    "    State_set = unique_column_values(poll_rows, \"State\")\n",
    "    for i in Pollster_set:\n",
    "        temp = []\n",
    "        for j in State_set:\n",
    "            a = most_recent_poll_row(poll_rows, i, j)\n",
    "            if a is not None:\n",
    "                temp.append(a)\n",
    "                b = state_edges(temp)\n",
    "                dic[i] = b            \n",
    "    return dic\n"
   ]
  },
  {
   "cell_type": "code",
   "execution_count": 15,
   "metadata": {},
   "outputs": [],
   "source": [
    "    rows3 = [\n",
    "      {'State': 'WA', 'Dem': '1.0', 'Rep': '0.1', 'Date': 'Nov 05 2008', 'Pollster': 'PPP'},\n",
    "      {'State': 'CA', 'Dem': '2.1', 'Rep': '3.2', 'Date': 'Nov 04 2008', 'Pollster': 'PPP'},\n",
    "      {'State': 'WA', 'Dem': '9.1', 'Rep': '7.1', 'Date': 'Nov 05 2008', 'Pollster': 'IPSOS'},\n",
    "      {'State': 'CA', 'Dem': '1.0', 'Rep': '10.3', 'Date': 'Nov 04 2008', 'Pollster': 'IPSOS'}]"
   ]
  },
  {
   "cell_type": "code",
   "execution_count": 16,
   "metadata": {},
   "outputs": [
    {
     "data": {
      "text/plain": [
       "{'PPP': {'WA': 0.9, 'CA': -1.1}, 'IPSOS': {'WA': 2.0, 'CA': -9.3}}"
      ]
     },
     "execution_count": 16,
     "metadata": {},
     "output_type": "execute_result"
    }
   ],
   "source": [
    "pollster_predictions(rows3)"
   ]
  },
  {
   "cell_type": "code",
   "execution_count": 17,
   "metadata": {},
   "outputs": [],
   "source": [
    "def average_error(state_edges_predicted, state_edges_actual):\n",
    "    \"\"\"\n",
    "    Given predicted state edges and actual state edges, returns\n",
    "    the average error of the prediction.\n",
    "    \"\"\"\n",
    "    error = 0\n",
    "    count = 0\n",
    "    predict_set = set(state_edges_predicted)\n",
    "    actual_set = set(state_edges_actual)\n",
    "    for name in predict_set.intersection(actual_set):\n",
    "        error += abs(state_edges_predicted[name] - state_edges_actual[name])\n",
    "        count += 1\n",
    "    return (error/count)\n"
   ]
  },
  {
   "cell_type": "code",
   "execution_count": 18,
   "metadata": {},
   "outputs": [],
   "source": [
    "    state_edges_pred_1 = {'WA': 1.0, 'CA': -2.3, 'ID': -20.1}\n",
    "    state_edges_act_1 = {'WA': 2.1, 'CA': -1.4, 'ID': -19.1}"
   ]
  },
  {
   "cell_type": "code",
   "execution_count": 19,
   "metadata": {},
   "outputs": [
    {
     "data": {
      "text/plain": [
       "1.0"
      ]
     },
     "execution_count": 19,
     "metadata": {},
     "output_type": "execute_result"
    }
   ],
   "source": [
    "average_error(state_edges_pred_1, state_edges_act_1)"
   ]
  },
  {
   "cell_type": "code",
   "execution_count": 20,
   "metadata": {},
   "outputs": [],
   "source": [
    "    state_edges_pred_3 = {'WA': 1.0, 'CA': 2.0}\n",
    "    state_edges_act_3 = {'WA': 2.0, 'CA': 1.0, 'MA': 2.4, 'OR': -3.9}"
   ]
  },
  {
   "cell_type": "code",
   "execution_count": 21,
   "metadata": {},
   "outputs": [
    {
     "data": {
      "text/plain": [
       "1.0"
      ]
     },
     "execution_count": 21,
     "metadata": {},
     "output_type": "execute_result"
    }
   ],
   "source": [
    "average_error(state_edges_pred_3, state_edges_act_3)"
   ]
  },
  {
   "cell_type": "code",
   "execution_count": 22,
   "metadata": {},
   "outputs": [],
   "source": [
    "def pollster_errors(pollster_predictions, state_edges_actual):\n",
    "    \"\"\"\n",
    "    Given pollster predictions and actual state edges, retuns pollster errors.\n",
    "    \"\"\"\n",
    "    dic = {}\n",
    "    for innerDict in pollster_predictions:                        ###innerDict -> Pollster\n",
    "        Pollster_predict = pollster_predictions[innerDict]        ###{'WA': 1.0, 'CA': -2.0, 'ID': -20.0}\n",
    "        avg_err = average_error(Pollster_predict, state_edges_actual)\n",
    "        dic.update({innerDict: avg_err})\n",
    "    return dic"
   ]
  },
  {
   "cell_type": "code",
   "execution_count": 23,
   "metadata": {},
   "outputs": [],
   "source": [
    "    predictions = {\n",
    "      'PPP': {'WA': 1.0, 'CA': -2.0, 'ID': -20.0}, \n",
    "      'ISPOP': {'WA': 2.0, 'ID': -19.0} \n",
    "      }\n",
    "    actual = {'WA': 2.0, 'CA': -1.0, 'ID': -19.0, 'OR': 2.2, 'DC': 0.1}"
   ]
  },
  {
   "cell_type": "code",
   "execution_count": 24,
   "metadata": {},
   "outputs": [
    {
     "data": {
      "text/plain": [
       "{'PPP': 1.0, 'ISPOP': 0.0}"
      ]
     },
     "execution_count": 24,
     "metadata": {},
     "output_type": "execute_result"
    }
   ],
   "source": [
    "pollster_errors(predictions, actual)"
   ]
  },
  {
   "cell_type": "code",
   "execution_count": 25,
   "metadata": {},
   "outputs": [],
   "source": [
    "def pivot_nested_dict(nested_dict):\n",
    "    \"\"\"\n",
    "    Pivots a nested dictionary, producing a different nested dictionary\n",
    "    containing the same values.\n",
    "    The input is a dictionary d1 that maps from keys k1 to dictionaries d2,\n",
    "    where d2 maps from keys k2 to values v.\n",
    "    The output is a dictionary d3 that maps from keys k2 to dictionaries d4,\n",
    "    where d4 maps from keys k1 to values v.\n",
    "    For example:\n",
    "      input = { \"a\" : { \"x\": 1, \"y\": 2 },\n",
    "                \"b\" : { \"x\": 3, \"z\": 4 } }\n",
    "      output = {'y': {'a': 2},\n",
    "                'x': {'a': 1, 'b': 3},\n",
    "                'z': {'b': 4} }\n",
    "    \"\"\"\n",
    "    from collections import defaultdict\n",
    "    out = defaultdict(dict)\n",
    "    for outer_key, inner in nested_dict.items():\n",
    "        for inner_key, value in inner.items():\n",
    "            out[inner_key][outer_key] = value\n",
    "    return out"
   ]
  },
  {
   "cell_type": "code",
   "execution_count": 26,
   "metadata": {},
   "outputs": [
    {
     "name": "stdout",
     "output_type": "stream",
     "text": [
      "True\n"
     ]
    }
   ],
   "source": [
    "    us_wars_by_name = {\n",
    "        \"Revolutionary\" : { \"start\": 1775, \"end\": 1783 },\n",
    "        \"Mexican\" : { \"start\": 1846, \"end\": 1848 },\n",
    "        \"Civil\" : { \"start\": 1861, \"end\": 1865 }\n",
    "        }\n",
    "    us_wars_by_start_and_end = {\n",
    "        'start': {'Revolutionary': 1775, 'Civil': 1861, 'Mexican': 1846},\n",
    "        'end': {'Revolutionary': 1783, 'Civil': 1865, 'Mexican': 1848}\n",
    "        }\n",
    "    print(pivot_nested_dict(us_wars_by_name) == us_wars_by_start_and_end)"
   ]
  },
  {
   "cell_type": "code",
   "execution_count": 27,
   "metadata": {},
   "outputs": [],
   "source": [
    "def average_error_to_weight(error):\n",
    "    \"\"\"\n",
    "    Given the average error of a pollster, returns that pollster's weight.\n",
    "    The error must be a positive number.\n",
    "    \"\"\"\n",
    "    return error ** (-2)\n",
    "\n",
    "# The default average error of a pollster who did no polling in the\n",
    "# previous election.\n",
    "DEFAULT_AVERAGE_ERROR = 5.0\n",
    "\n",
    "def pollster_to_weight(pollster, pollster_errors):\n",
    "    \"\"\"\"\n",
    "    Given a pollster and a pollster errors, return the given pollster's weight.\n",
    "    \"\"\"\n",
    "    if pollster not in pollster_errors:\n",
    "        weight = average_error_to_weight(DEFAULT_AVERAGE_ERROR)\n",
    "    else:\n",
    "        weight = average_error_to_weight(pollster_errors[pollster])\n",
    "    return weight"
   ]
  },
  {
   "cell_type": "code",
   "execution_count": 28,
   "metadata": {},
   "outputs": [],
   "source": [
    "def weighted_average(items, weights):\n",
    "    \"\"\"\n",
    "    Returns the weighted average of a list of items.\n",
    "    \n",
    "    Arguments:\n",
    "    items is a list of numbers.\n",
    "    weights is a list of numbers, whose sum is nonzero.\n",
    "    \n",
    "    Each weight in weights corresponds to the item in items at the same index.\n",
    "    items and weights must be the same length.\n",
    "    \"\"\"\n",
    "    assert len(items) > 0\n",
    "    assert len(items) == len(weights)\n",
    "    total = 0\n",
    "    sum_weights = 0\n",
    "    for i in range(len(items)):\n",
    "        total += items[i] * weights[i]\n",
    "        sum_weights += weights[i]\n",
    "    return(total/sum_weights)"
   ]
  },
  {
   "cell_type": "code",
   "execution_count": 29,
   "metadata": {},
   "outputs": [],
   "source": [
    "    assert weighted_average([3, 4, 5], [1, 1, 1]) == 4\n",
    "    assert weighted_average([3, 4], [1, 1]) == 3.5\n",
    "    assert weighted_average([2, 4, 4, 6], [1, 1, 1, 5]) == 5\n",
    "    assert weighted_average([0, 1, 2, 3, 4], [0, 1, 2, 3, 4]) == 3\n",
    "    assert weighted_average([1, 2, 1], [3, 2, 5]) == 1.2\n"
   ]
  },
  {
   "cell_type": "code",
   "execution_count": 61,
   "metadata": {},
   "outputs": [],
   "source": [
    "def average_edge(pollster_edges, pollster_errors):\n",
    "    \"\"\"\n",
    "    Given pollster edges and pollster errors, returns the average of these edges\n",
    "    weighted by their respective pollster errors.\n",
    "    \"\"\"\n",
    "    from decimal import Decimal\n",
    "    weight_sum = 0\n",
    "    denum = 0\n",
    "    weight = 0\n",
    "    for i in pollster_edges:\n",
    "        weight = Decimal(pollster_to_weight(i, pollster_errors))\n",
    "        weight_sum += Decimal(weight)\n",
    "        denum += Decimal(weight)*Decimal(pollster_edges[i]) \n",
    "    result = float(denum)/float(weight_sum)\n",
    "    print(result)\n",
    "    return result"
   ]
  },
  {
   "cell_type": "code",
   "execution_count": 62,
   "metadata": {},
   "outputs": [
    {
     "name": "stdout",
     "output_type": "stream",
     "text": [
      "4.0\n",
      "4.0\n",
      "3.5\n",
      "3.3684210526315788\n",
      "1.560068324160182\n",
      "4.0\n",
      "4.0\n"
     ]
    }
   ],
   "source": [
    "    assert average_edge({\"p1\":3, \"p2\":4, \"p3\":5}, {\"p1\":1, \"p2\":1, \"p3\":1}) == 4\n",
    "    assert average_edge({\"p1\":3, \"p2\":4, \"p3\":5}, {\"p1\":1, \"p2\":1, \"p3\":1, \"p4\":2, \"p5\": -8}) == 4\n",
    "    assert average_edge({\"p1\":3, \"p2\":4}, {\"p1\":1, \"p2\":1}) == 3.5\n",
    "    assert average_edge({\"p1\":2, \"p2\":4, \"p3\":4, \"p4\":6}, {\"p1\":1, \"p2\":1, \"p3\":1, \"p4\":5}) == 3.3684210526315788\n",
    "    assert average_edge({\"p1\":1, \"p2\":2, \"p3\":3, \"p4\":4, \"p5\":5},\n",
    "                        {\"p1\":1, \"p2\":2, \"p3\":3, \"p4\":4, \"p5\":5}) == 1.560068324160182\n",
    "    assert average_edge({\"p1\":3, \"p2\":4, \"p3\":5}, {\"p1\":5, \"p2\":5}) == 4\n",
    "    assert average_edge({\"p1\":3, \"p2\":4, \"p3\":5}, {}) == 4"
   ]
  },
  {
   "cell_type": "code",
   "execution_count": 63,
   "metadata": {},
   "outputs": [],
   "source": [
    "    pollster_predictions = {\n",
    "      'PPP': { 'WA': -11.2, 'CA': -2.0, 'ID': -1.1 },\n",
    "      'IPSOS': { 'WA': -8.7, 'CA': -3.1, 'ID': 4.0 },\n",
    "      'SurveyUSA': { 'WA': -9.0, 'FL': 0.5 },\n",
    "      }"
   ]
  },
  {
   "cell_type": "code",
   "execution_count": 64,
   "metadata": {},
   "outputs": [
    {
     "name": "stdout",
     "output_type": "stream",
     "text": [
      "{'PPP': -11.2, 'IPSOS': -8.7, 'SurveyUSA': -9.0}\n",
      "{'PPP': -2.0, 'IPSOS': -3.1}\n",
      "{'PPP': -1.1, 'IPSOS': 4.0}\n",
      "{'SurveyUSA': 0.5}\n"
     ]
    }
   ],
   "source": [
    "dic_trans = pivot_nested_dict(pollster_predictions)\n",
    "for i in dic_trans:\n",
    "        edges = dic_trans[i]\n",
    "        print(edges)\n",
    "        #result = average_edge(edges, pollster_errors)\n",
    "        #print(result)"
   ]
  },
  {
   "cell_type": "code",
   "execution_count": 68,
   "metadata": {},
   "outputs": [],
   "source": [
    "def predict_state_edges(pollster_predictions, pollster_errors):\n",
    "    \"\"\"\n",
    "    Given pollster predictions from a current election and pollster errors from\n",
    "    a past election, returns the predicted state edges of the current election.\n",
    "    \"\"\"\n",
    "    dic = {}\n",
    "    dic_trans = pivot_nested_dict(pollster_predictions)\n",
    "    for i in dic_trans:\n",
    "        edges = dic_trans[i]\n",
    "        result = average_edge(edges, pollster_errors)\n",
    "        dic.update({ i: result})\n",
    "    return dic\n",
    "        "
   ]
  },
  {
   "cell_type": "code",
   "execution_count": 69,
   "metadata": {},
   "outputs": [],
   "source": [
    "pollster_errors = {'PPP': 1.2, 'IPSOS': 4.0, 'SurveyUSA':3.5, 'NonExistant':100.0}\n",
    "pollster_predictions = {\n",
    "      'PPP': { 'WA': -11.2, 'CA': -2.0, 'ID': -1.1 },\n",
    "      'IPSOS': { 'WA': -8.7, 'CA': -3.1, 'ID': 4.0 },\n",
    "      'SurveyUSA': { 'WA': -9.0, 'FL': 0.5 },\n",
    "      }"
   ]
  },
  {
   "cell_type": "code",
   "execution_count": 70,
   "metadata": {},
   "outputs": [
    {
     "name": "stdout",
     "output_type": "stream",
     "text": [
      "-10.799509886766941\n",
      "-2.0908256880733944\n",
      "-0.6788990825688075\n",
      "0.5\n",
      "{'WA': -10.799509886766941, 'CA': -2.0908256880733944, 'ID': -0.6788990825688075, 'FL': 0.5}\n"
     ]
    }
   ],
   "source": [
    "predict_state_edges(pollster_predictions, pollster_errors)"
   ]
  },
  {
   "cell_type": "code",
   "execution_count": null,
   "metadata": {},
   "outputs": [],
   "source": []
  }
 ],
 "metadata": {
  "kernelspec": {
   "display_name": "Python 3",
   "language": "python",
   "name": "python3"
  },
  "language_info": {
   "codemirror_mode": {
    "name": "ipython",
    "version": 3
   },
   "file_extension": ".py",
   "mimetype": "text/x-python",
   "name": "python",
   "nbconvert_exporter": "python",
   "pygments_lexer": "ipython3",
   "version": "3.7.4"
  }
 },
 "nbformat": 4,
 "nbformat_minor": 2
}
