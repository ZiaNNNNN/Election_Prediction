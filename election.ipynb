{
 "cells": [
  {
   "cell_type": "code",
   "execution_count": 1,
   "metadata": {},
   "outputs": [],
   "source": [
    "import csv\n",
    "import os\n",
    "import time"
   ]
  },
  {
   "cell_type": "code",
   "execution_count": 2,
   "metadata": {},
   "outputs": [],
   "source": [
    "def read_csv(path):\n",
    "    \"\"\"\n",
    "    Reads the CSV file at path, and returns a list of rows. Each row is a\n",
    "    dictionary that maps a column name to a value in that column, as a string.\n",
    "    \"\"\"\n",
    "    output = []\n",
    "    for row in csv.DictReader(open(path)):\n",
    "        output.append(row)\n",
    "    return output\n"
   ]
  },
  {
   "cell_type": "code",
   "execution_count": 3,
   "metadata": {},
   "outputs": [],
   "source": [
    "def row_to_edge(row):\n",
    "    \"\"\"\n",
    "    Given an election result row or poll data row, returns the Democratic edge\n",
    "    in that state.\n",
    "    \"\"\"\n",
    "    return float(row[\"Dem\"]) - float(row[\"Rep\"])  \n",
    "\n",
    "def state_edges(election_result_rows):\n",
    "    \"\"\"\n",
    "    Given a list of election result rows, returns state edges.\n",
    "    The input list does has no duplicate states;\n",
    "    that is, each state is represented at most once in the input list.\n",
    "    \"\"\"\n",
    "    dic={}\n",
    "    for i in election_result_rows:\n",
    "        dic.update({ i[\"State\"]: row_to_edge(i)})\n",
    "    return dic"
   ]
  },
  {
   "cell_type": "code",
   "execution_count": 4,
   "metadata": {},
   "outputs": [],
   "source": [
    "def earlier_date(date1, date2):\n",
    "    \"\"\"\n",
    "    Given two dates as strings (formatted like \"Oct 06 2012\"), returns True if \n",
    "    date1 is after date2.\n",
    "    \"\"\"\n",
    "    return (time.strptime(date1, \"%b %d %Y\") < time.strptime(date2, \"%b %d %Y\"))\n",
    "\n",
    "def most_recent_poll_row(poll_rows, pollster, state):\n",
    "    \"\"\"\n",
    "    Given a list of poll data rows, returns the most recent row with the\n",
    "    specified pollster and state. If no such row exists, returns None.\n",
    "    \"\"\"\n",
    "    recent_date = \"Oct 01 1500\"\n",
    "    data = None\n",
    "    for i in poll_rows:\n",
    "        if i[\"State\"] == state and i[\"Pollster\"] == pollster:\n",
    "            if earlier_date(recent_date, i[\"Date\"]):\n",
    "                recent_date = i[\"Date\"]\n",
    "                data = i\n",
    "    return data\n"
   ]
  },
  {
   "cell_type": "code",
   "execution_count": 5,
   "metadata": {},
   "outputs": [],
   "source": [
    "def unique_column_values(rows, column_name):\n",
    "    \"\"\"\n",
    "    Given a list of rows and the name of a column (a string), returns a set\n",
    "    containing all values in that column.\n",
    "    \"\"\"\n",
    "    my_set = set()\n",
    "    for i in rows:\n",
    "        if i[column_name] not in my_set:\n",
    "            my_set.add(i[column_name])\n",
    "    return my_set\n",
    "\n",
    "def pollster_predictions(poll_rows):\n",
    "    \"\"\"\n",
    "    Given a list of poll data rows, returns pollster predictions.\n",
    "    \"\"\"\n",
    "    dic = {}\n",
    "    Pollster_set = unique_column_values(poll_rows, \"Pollster\")\n",
    "    State_set = unique_column_values(poll_rows, \"State\")\n",
    "    for i in Pollster_set:\n",
    "        temp = []\n",
    "        for j in State_set:\n",
    "            a = most_recent_poll_row(poll_rows, i, j)\n",
    "            if a is not None:\n",
    "                temp.append(a)\n",
    "                b = state_edges(temp)\n",
    "                dic[i] = b            \n",
    "    return dic"
   ]
  },
  {
   "cell_type": "code",
   "execution_count": 6,
   "metadata": {},
   "outputs": [],
   "source": [
    "def average_error(state_edges_predicted, state_edges_actual):\n",
    "    \"\"\"\n",
    "    Given predicted state edges and actual state edges, returns\n",
    "    the average error of the prediction.\n",
    "    \"\"\"\n",
    "    error = 0\n",
    "    count = 0\n",
    "    predict_set = set(state_edges_predicted)\n",
    "    actual_set = set(state_edges_actual)\n",
    "    for name in predict_set.intersection(actual_set):\n",
    "        error += abs(state_edges_predicted[name] - state_edges_actual[name])\n",
    "        count += 1\n",
    "    return (error/count)\n",
    "\n",
    "def pollster_errors(pollster_predictions, state_edges_actual):\n",
    "    \"\"\"\n",
    "    Given pollster predictions and actual state edges, retuns pollster errors.\n",
    "    \"\"\"\n",
    "    dic = {}\n",
    "    for innerDict in pollster_predictions:                        ###innerDict -> Pollster\n",
    "        Pollster_predict = pollster_predictions[innerDict]        ###{'WA': 1.0, 'CA': -2.0, 'ID': -20.0}\n",
    "        avg_err = average_error(Pollster_predict, state_edges_actual)\n",
    "        dic.update({innerDict: avg_err})\n",
    "    return dic"
   ]
  },
  {
   "cell_type": "code",
   "execution_count": 7,
   "metadata": {},
   "outputs": [],
   "source": [
    "def pivot_nested_dict(nested_dict):\n",
    "    \"\"\"\n",
    "    Pivots a nested dictionary, producing a different nested dictionary\n",
    "    containing the same values.\n",
    "    The input is a dictionary d1 that maps from keys k1 to dictionaries d2,\n",
    "    where d2 maps from keys k2 to values v.\n",
    "    The output is a dictionary d3 that maps from keys k2 to dictionaries d4,\n",
    "    where d4 maps from keys k1 to values v.\n",
    "    For example:\n",
    "      input = { \"a\" : { \"x\": 1, \"y\": 2 },s\n",
    "                \"b\" : { \"x\": 3, \"z\": 4 } }\n",
    "      output = {'y': {'a': 2},\n",
    "                'x': {'a': 1, 'b': 3},\n",
    "                'z': {'b': 4} }\n",
    "    \"\"\"\n",
    "\n",
    "    from collections import defaultdict\n",
    "    out = defaultdict(dict)\n",
    "    for outer_key, inner in nested_dict.items():\n",
    "        for inner_key, value in inner.items():\n",
    "            out[inner_key][outer_key] = value\n",
    "    return out"
   ]
  },
  {
   "cell_type": "code",
   "execution_count": 8,
   "metadata": {},
   "outputs": [],
   "source": [
    "def average_error_to_weight(error):\n",
    "    \"\"\"\n",
    "    Given the average error of a pollster, returns that pollster's weight.\n",
    "    The error must be a positive number.\n",
    "    \"\"\"\n",
    "    return error ** (-2)\n",
    "\n",
    "# The default average error of a pollster who did no polling in the\n",
    "# previous election.\n",
    "DEFAULT_AVERAGE_ERROR = 5.0\n"
   ]
  },
  {
   "cell_type": "code",
   "execution_count": 9,
   "metadata": {},
   "outputs": [],
   "source": [
    "def pollster_to_weight(pollster, pollster_errors):\n",
    "    \"\"\"\"\n",
    "    Given a pollster and a pollster errors, return the given pollster's weight.\n",
    "    \"\"\"\n",
    "    if pollster not in pollster_errors:\n",
    "        weight = average_error_to_weight(DEFAULT_AVERAGE_ERROR)\n",
    "    else:\n",
    "        weight = average_error_to_weight(pollster_errors[pollster])\n",
    "    return weight"
   ]
  },
  {
   "cell_type": "code",
   "execution_count": 10,
   "metadata": {},
   "outputs": [],
   "source": [
    "def weighted_average(items, weights):\n",
    "    \"\"\"\n",
    "    Returns the weighted average of a list of items.\n",
    "    \n",
    "    Arguments:\n",
    "    items is a list of numbers.\n",
    "    weights is a list of numbers, whose sum is nonzero.\n",
    "    \n",
    "    Each weight in weights corresponds to the item in items at the same index.\n",
    "    items and weights must be the same length.\n",
    "    \"\"\"\n",
    "    assert len(items) > 0\n",
    "    assert len(items) == len(weights)\n",
    "    total = 0\n",
    "    sum_weights = 0\n",
    "    for i in range(len(items)):\n",
    "        total += items[i] * weights[i]\n",
    "        sum_weights += weights[i]\n",
    "    return total/sum_weights\n"
   ]
  },
  {
   "cell_type": "code",
   "execution_count": 11,
   "metadata": {},
   "outputs": [],
   "source": [
    "def average_edge(pollster_edges, pollster_errors):\n",
    "    \"\"\"\n",
    "    Given pollster edges and pollster errors, returns the average of these edges\n",
    "    weighted by their respective pollster errors.\n",
    "    \"\"\"\n",
    "    from decimal import Decimal\n",
    "    weight_sum = 0\n",
    "    denum = 0\n",
    "    weight = 0\n",
    "    for i in pollster_edges:\n",
    "        weight = Decimal(pollster_to_weight(i, pollster_errors))\n",
    "        weight_sum += Decimal(weight)\n",
    "        denum += Decimal(weight)*Decimal(pollster_edges[i]) \n",
    "    result = float(denum)/float(weight_sum)\n",
    "    return result"
   ]
  },
  {
   "cell_type": "code",
   "execution_count": null,
   "metadata": {},
   "outputs": [],
   "source": []
  }
 ],
 "metadata": {
  "kernelspec": {
   "display_name": "Python 3",
   "language": "python",
   "name": "python3"
  },
  "language_info": {
   "codemirror_mode": {
    "name": "ipython",
    "version": 3
   },
   "file_extension": ".py",
   "mimetype": "text/x-python",
   "name": "python",
   "nbconvert_exporter": "python",
   "pygments_lexer": "ipython3",
   "version": "3.7.4"
  }
 },
 "nbformat": 4,
 "nbformat_minor": 2
}
